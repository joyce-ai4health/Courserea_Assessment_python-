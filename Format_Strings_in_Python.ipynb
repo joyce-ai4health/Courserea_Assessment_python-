{
  "nbformat": 4,
  "nbformat_minor": 0,
  "metadata": {
    "colab": {
      "provenance": []
    },
    "kernelspec": {
      "name": "python3",
      "display_name": "Python 3"
    },
    "language_info": {
      "name": "python"
    }
  },
  "cells": [
    {
      "cell_type": "code",
      "execution_count": 1,
      "metadata": {
        "id": "cm-3zQPomzoT",
        "colab": {
          "base_uri": "https://localhost:8080/"
        },
        "outputId": "e912d1b0-fdec-4643-a9b4-1afd3ac28b55"
      },
      "outputs": [
        {
          "output_type": "stream",
          "name": "stdout",
          "text": [
            "My name is John and I am 30 years old.\n"
          ]
        }
      ],
      "source": [
        "# String interpolation (f-strings)\n",
        "name = \"John\"\n",
        "age = 30\n",
        "print(f\"My name is {name} and I am {age} years old.\")"
      ]
    },
    {
      "cell_type": "code",
      "source": [
        "# str.format()\n",
        "name = \"John\"\n",
        "age = 50\n",
        "print(\"My name is {} and I am {} years old.\".format(name, age))"
      ],
      "metadata": {
        "colab": {
          "base_uri": "https://localhost:8080/"
        },
        "id": "y5nmtbuqp9yu",
        "outputId": "347668fd-837d-49f6-c05b-64cc11d7557c"
      },
      "execution_count": 2,
      "outputs": [
        {
          "output_type": "stream",
          "name": "stdout",
          "text": [
            "My name is John and I am 50 years old.\n"
          ]
        }
      ]
    },
    {
      "cell_type": "code",
      "source": [
        "# % Operator\n",
        "name = \"Johnathan\"\n",
        "age = 30\n",
        "print(\"My name is %s and I am %d years old.\" % (name, age))"
      ],
      "metadata": {
        "colab": {
          "base_uri": "https://localhost:8080/"
        },
        "id": "QtAWH8xCqpdq",
        "outputId": "1c95cd48-cc3e-497b-b992-391326060565"
      },
      "execution_count": 5,
      "outputs": [
        {
          "output_type": "stream",
          "name": "stdout",
          "text": [
            "My name is Johnathan and I am 30 years old.\n"
          ]
        }
      ]
    },
    {
      "cell_type": "code",
      "source": [
        "# Additional capabilities\n",
        "x = 10\n",
        "y = 20\n",
        "print(f\"The sum of x and y is {x+y}.\")"
      ],
      "metadata": {
        "colab": {
          "base_uri": "https://localhost:8080/"
        },
        "id": "fsTkHJQ3sRU0",
        "outputId": "e790d2cd-99f8-473b-ea3a-7ae67391be08"
      },
      "execution_count": 6,
      "outputs": [
        {
          "output_type": "stream",
          "name": "stdout",
          "text": [
            "The sum of x and y is 30.\n"
          ]
        }
      ]
    },
    {
      "cell_type": "code",
      "source": [
        "  x = 10\n",
        "y = 20\n",
        "z = x + y\n",
        "print(f\" z = {x+y}.\")"
      ],
      "metadata": {
        "colab": {
          "base_uri": "https://localhost:8080/"
        },
        "id": "JnibkKsBsbKP",
        "outputId": "5666fc81-af75-43c3-b172-11573f61c57c"
      },
      "execution_count": 12,
      "outputs": [
        {
          "output_type": "stream",
          "name": "stdout",
          "text": [
            " z = 30.\n"
          ]
        }
      ]
    },
    {
      "cell_type": "code",
      "source": [
        "# Raw String (r’’)\n",
        "regular_string = \"C:\\new_folder\\file.txt\"\n",
        "print(\"Regular String:\", regular_string)"
      ],
      "metadata": {
        "colab": {
          "base_uri": "https://localhost:8080/"
        },
        "id": "leRiBJ68uCHR",
        "outputId": "d0039422-f2a8-4c08-9b64-fddd3a8bed5f"
      },
      "execution_count": 13,
      "outputs": [
        {
          "output_type": "stream",
          "name": "stdout",
          "text": [
            "Regular String: C:\n",
            "ew_folder\file.txt\n"
          ]
        }
      ]
    }
  ]
}