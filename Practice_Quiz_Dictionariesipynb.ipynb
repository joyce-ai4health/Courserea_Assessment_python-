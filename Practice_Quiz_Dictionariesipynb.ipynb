{
  "nbformat": 4,
  "nbformat_minor": 0,
  "metadata": {
    "colab": {
      "provenance": []
    },
    "kernelspec": {
      "name": "python3",
      "display_name": "Python 3"
    },
    "language_info": {
      "name": "python"
    }
  },
  "cells": [
    {
      "cell_type": "code",
      "execution_count": 1,
      "metadata": {
        "id": "jG3EIizgduHV",
        "colab": {
          "base_uri": "https://localhost:8080/"
        },
        "outputId": "c803705e-2a35-45f7-f5d2-f23b7839a539"
      },
      "outputs": [
        {
          "output_type": "execute_result",
          "data": {
            "text/plain": [
              "dict_keys(['a', 'b'])"
            ]
          },
          "metadata": {},
          "execution_count": 1
        }
      ],
      "source": [
        "Dict =  {\"a\":1,\"b\":2}\n",
        "Dict.keys()"
      ]
    },
    {
      "cell_type": "code",
      "source": [
        "Dict={\"A\":1,\"B\":\"2\",\"C\":[3,3,3],\"D\":(4,4,4),'E':5,'F':6}\n",
        "Dict[\"D\"]"
      ],
      "metadata": {
        "colab": {
          "base_uri": "https://localhost:8080/"
        },
        "id": "89cP3MA6c0h1",
        "outputId": "ff18a8ca-68bf-4b0b-9f4e-694df786ff04"
      },
      "execution_count": 2,
      "outputs": [
        {
          "output_type": "execute_result",
          "data": {
            "text/plain": [
              "(4, 4, 4)"
            ]
          },
          "metadata": {},
          "execution_count": 2
        }
      ]
    }
  ]
}