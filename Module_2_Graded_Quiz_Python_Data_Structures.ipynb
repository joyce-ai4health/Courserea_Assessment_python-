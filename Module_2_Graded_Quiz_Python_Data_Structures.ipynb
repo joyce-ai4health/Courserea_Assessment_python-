{
  "nbformat": 4,
  "nbformat_minor": 0,
  "metadata": {
    "colab": {
      "provenance": []
    },
    "kernelspec": {
      "name": "python3",
      "display_name": "Python 3"
    },
    "language_info": {
      "name": "python"
    }
  },
  "cells": [
    {
      "cell_type": "code",
      "execution_count": 2,
      "metadata": {
        "colab": {
          "base_uri": "https://localhost:8080/"
        },
        "id": "qgNX4Z2p8fpD",
        "outputId": "03a4d48e-df43-40fb-fd8a-74718fff9efe"
      },
      "outputs": [
        {
          "output_type": "execute_result",
          "data": {
            "text/plain": [
              "[3.6, 4.1]"
            ]
          },
          "metadata": {},
          "execution_count": 2
        }
      ],
      "source": [
        " experiment_data = ((1.5, 2.7), [3.6, 4.1])\n",
        " experiment_data[1]\n"
      ]
    },
    {
      "cell_type": "code",
      "source": [
        "A = ((1),[2,3],[4])\n",
        "A[2]"
      ],
      "metadata": {
        "colab": {
          "base_uri": "https://localhost:8080/"
        },
        "id": "vRDYOUtR95XG",
        "outputId": "ddfaefc0-6eb9-40ad-9a2c-9bdbd3c4b31e"
      },
      "execution_count": 3,
      "outputs": [
        {
          "output_type": "execute_result",
          "data": {
            "text/plain": [
              "[4]"
            ]
          },
          "metadata": {},
          "execution_count": 3
        }
      ]
    },
    {
      "cell_type": "code",
      "source": [
        "cart = ['shirt', 'pants']\n",
        "cart.append(['hat', 'belt'])\n",
        "print(cart)"
      ],
      "metadata": {
        "colab": {
          "base_uri": "https://localhost:8080/"
        },
        "id": "HEiwmdqB-GKd",
        "outputId": "5c5c6307-0366-4c10-c3af-05cef2f6884c"
      },
      "execution_count": 5,
      "outputs": [
        {
          "output_type": "stream",
          "name": "stdout",
          "text": [
            "['shirt', 'pants', ['hat', 'belt']]\n"
          ]
        }
      ]
    },
    {
      "cell_type": "code",
      "source": [
        "nav_menu = [\"Home\", \"Products\", \"About Us\", \"Contact\"]\n",
        "del(nav_menu[1])\n",
        "print(nav_menu)"
      ],
      "metadata": {
        "colab": {
          "base_uri": "https://localhost:8080/"
        },
        "id": "CcWkW3TC-0YB",
        "outputId": "79d42356-1528-4a06-e43e-a8431b5e89a2"
      },
      "execution_count": 7,
      "outputs": [
        {
          "output_type": "stream",
          "name": "stdout",
          "text": [
            "['Home', 'About Us', 'Contact']\n"
          ]
        }
      ]
    },
    {
      "cell_type": "code",
      "source": [
        "len((\"disco\",10,1.2, \"hard rock\",10))"
      ],
      "metadata": {
        "colab": {
          "base_uri": "https://localhost:8080/"
        },
        "id": "XXZWs5Um_n-f",
        "outputId": "56a8d64a-4865-4fc2-e6fd-2b08aeec9584"
      },
      "execution_count": 8,
      "outputs": [
        {
          "output_type": "execute_result",
          "data": {
            "text/plain": [
              "5"
            ]
          },
          "metadata": {},
          "execution_count": 8
        }
      ]
    },
    {
      "cell_type": "code",
      "source": [
        " album_years = {\"Thriller\":\"1982\", \"Back in Black\":\"1980\", \"The Dark Side of the Moon\":\"1973\"}\n",
        " album_years.values()  # Output: dict_values(['1982', '1980', '1973'])\n"
      ],
      "metadata": {
        "colab": {
          "base_uri": "https://localhost:8080/"
        },
        "id": "OX7kBTbUAJAU",
        "outputId": "92066e71-dee9-4096-f847-59278e075def"
      },
      "execution_count": 9,
      "outputs": [
        {
          "output_type": "execute_result",
          "data": {
            "text/plain": [
              "dict_values(['1982', '1980', '1973'])"
            ]
          },
          "metadata": {},
          "execution_count": 9
        }
      ]
    },
    {
      "cell_type": "code",
      "source": [
        "A = {1, 2, 3}\n",
        "B = {2, 4, 7}\n",
        "print(A.union(B))"
      ],
      "metadata": {
        "colab": {
          "base_uri": "https://localhost:8080/"
        },
        "id": "IX5yMXyUA6vB",
        "outputId": "eda72056-8537-46fa-8b66-719f78f244a1"
      },
      "execution_count": 11,
      "outputs": [
        {
          "output_type": "stream",
          "name": "stdout",
          "text": [
            "{1, 2, 3, 4, 7}\n"
          ]
        }
      ]
    },
    {
      "cell_type": "code",
      "source": [
        "A = {1, 2, 3}\n",
        "B = {2, 4, 7}\n",
        "print(A|B)"
      ],
      "metadata": {
        "colab": {
          "base_uri": "https://localhost:8080/"
        },
        "id": "OfLRuYgBBdMg",
        "outputId": "3e15c8de-6d0b-45ce-f921-79d46e7f9a24"
      },
      "execution_count": 12,
      "outputs": [
        {
          "output_type": "stream",
          "name": "stdout",
          "text": [
            "{1, 2, 3, 4, 7}\n"
          ]
        }
      ]
    }
  ]
}